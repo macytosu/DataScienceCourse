{
 "cells": [
  {
   "cell_type": "markdown",
   "id": "fd3b4b76",
   "metadata": {},
   "source": [
    "# Data Science Tools and Ecosystem"
   ]
  },
  {
   "cell_type": "markdown",
   "id": "9f3623a1",
   "metadata": {},
   "source": [
    "This notebook summarizes Data Science Tools and Ecosystem"
   ]
  },
  {
   "cell_type": "markdown",
   "id": "ae2e0fa7",
   "metadata": {},
   "source": [
    "**Objectives**\n",
    "- List popular languages for Data Scientists.\n",
    "- List open source development environments.\n",
    "- List libraries commonly used in Data Science.\n",
    "- Gives examples of arithmetic expressions."
   ]
  },
  {
   "cell_type": "markdown",
   "id": "872c6967",
   "metadata": {},
   "source": [
    "Popular languages Data Scientists use are:\n",
    "1. Python\n",
    "2. R\n",
    "3. SQL\n",
    "4. Julia"
   ]
  },
  {
   "cell_type": "markdown",
   "id": "0064c256",
   "metadata": {},
   "source": [
    "Libraries that Data Scientists commonly use:\n",
    "1. Pandas\n",
    "2. Matplotlib\n",
    "3. Scikit-learn\n",
    "4. Apache Spark"
   ]
  },
  {
   "cell_type": "markdown",
   "id": "41ae2fdc",
   "metadata": {},
   "source": [
    "|Data Science Tools|\n",
    "|------------------|\n",
    "|Watson Studio|\n",
    "|Jupyter|\n",
    "|R Studio|"
   ]
  },
  {
   "cell_type": "markdown",
   "id": "009fbed8",
   "metadata": {},
   "source": [
    "### Below are examples of arithmetic expressions in Python."
   ]
  },
  {
   "cell_type": "code",
   "execution_count": 1,
   "id": "a6ca33d5",
   "metadata": {},
   "outputs": [
    {
     "data": {
      "text/plain": [
       "17"
      ]
     },
     "execution_count": 1,
     "metadata": {},
     "output_type": "execute_result"
    }
   ],
   "source": [
    "# This is a simple arithmetic expression to multiply then add integers.\n",
    "(3*4)+5"
   ]
  },
  {
   "cell_type": "code",
   "execution_count": 2,
   "id": "fdebc773",
   "metadata": {},
   "outputs": [
    {
     "data": {
      "text/plain": [
       "3.3333333333333335"
      ]
     },
     "execution_count": 2,
     "metadata": {},
     "output_type": "execute_result"
    }
   ],
   "source": [
    "# This converts 200 minutes to hours by diving by 60.\n",
    "200/60"
   ]
  },
  {
   "cell_type": "markdown",
   "id": "99ce5572",
   "metadata": {},
   "source": [
    "## Author\n",
    "Macy Traywick"
   ]
  },
  {
   "cell_type": "code",
   "execution_count": null,
   "id": "b2217b1d",
   "metadata": {},
   "outputs": [],
   "source": []
  }
 ],
 "metadata": {
  "kernelspec": {
   "display_name": "Python 3 (ipykernel)",
   "language": "python",
   "name": "python3"
  },
  "language_info": {
   "codemirror_mode": {
    "name": "ipython",
    "version": 3
   },
   "file_extension": ".py",
   "mimetype": "text/x-python",
   "name": "python",
   "nbconvert_exporter": "python",
   "pygments_lexer": "ipython3",
   "version": "3.11.4"
  }
 },
 "nbformat": 4,
 "nbformat_minor": 5
}
